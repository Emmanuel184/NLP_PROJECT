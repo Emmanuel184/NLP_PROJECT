{
 "cells": [
  {
   "cell_type": "code",
   "execution_count": 8,
   "metadata": {},
   "outputs": [],
   "source": [
    "from transformers import pipeline\n",
    "from nltk import sent_tokenize\n",
    "import nltk\n",
    "import torch\n",
    "import glob\n",
    "import pysrt\n",
    "import platform\n",
    "import re\n",
    "import pandas as pd\n",
    "from collections import defaultdict\n",
    "import numpy as np"
   ]
  },
  {
   "cell_type": "code",
   "execution_count": null,
   "metadata": {},
   "outputs": [],
   "source": []
  },
  {
   "cell_type": "code",
   "execution_count": null,
   "metadata": {},
   "outputs": [],
   "source": []
  },
  {
   "cell_type": "code",
   "execution_count": null,
   "metadata": {},
   "outputs": [],
   "source": []
  },
  {
   "cell_type": "code",
   "execution_count": 9,
   "metadata": {},
   "outputs": [
    {
     "name": "stderr",
     "output_type": "stream",
     "text": [
      "[nltk_data] Downloading package punkt to /Users/homedirel/nltk_data...\n",
      "[nltk_data]   Package punkt is already up-to-date!\n"
     ]
    },
    {
     "data": {
      "text/plain": [
       "True"
      ]
     },
     "execution_count": 9,
     "metadata": {},
     "output_type": "execute_result"
    }
   ],
   "source": [
    "nltk.download(\"punkt\")"
   ]
  },
  {
   "cell_type": "markdown",
   "metadata": {},
   "source": [
    "# Load Model"
   ]
  },
  {
   "cell_type": "code",
   "execution_count": 10,
   "metadata": {},
   "outputs": [
    {
     "name": "stdout",
     "output_type": "stream",
     "text": [
      "Using device: mps\n"
     ]
    }
   ],
   "source": [
    "model_name = \"facebook/bart-large-mnli\"\n",
    "device = torch.device(\"cpu\")  # Default to CPU\n",
    "\n",
    "if platform.system() == \"Darwin\" and torch.backends.mps.is_available():\n",
    "    device = torch.device(\"mps\")\n",
    "elif torch.cuda.is_available():\n",
    "    device = torch.device(\"cuda\")\n",
    "\n",
    "print(f\"Using device: {device}\")"
   ]
  },
  {
   "cell_type": "code",
   "execution_count": 11,
   "metadata": {},
   "outputs": [],
   "source": [
    "def load_model(device):\n",
    "    theme_classifier = pipeline(\n",
    "        \"zero-shot-classification\",\n",
    "        model=model_name,\n",
    "        device=device\n",
    "    )\n",
    "\n",
    "    return theme_classifier"
   ]
  },
  {
   "cell_type": "code",
   "execution_count": 12,
   "metadata": {},
   "outputs": [
    {
     "name": "stderr",
     "output_type": "stream",
     "text": [
      "/Users/homedirel/ML/NLP_PROJECT/.venv/lib/python3.10/site-packages/transformers/tokenization_utils_base.py:1601: FutureWarning: `clean_up_tokenization_spaces` was not set. It will be set to `True` by default. This behavior will be depracted in transformers v4.45, and will be then set to `False` by default. For more details check this issue: https://github.com/huggingface/transformers/issues/31884\n",
      "  warnings.warn(\n"
     ]
    }
   ],
   "source": [
    "theme_classifier = load_model(device)"
   ]
  },
  {
   "cell_type": "code",
   "execution_count": 13,
   "metadata": {},
   "outputs": [
    {
     "data": {
      "text/plain": [
       "{'sequence': 'I gave him a right hook then a left jab',\n",
       " 'labels': ['battle',\n",
       "  'self development',\n",
       "  'hope',\n",
       "  'sacrifice',\n",
       "  'dialogue',\n",
       "  'betrayal',\n",
       "  'love',\n",
       "  'friendship'],\n",
       " 'scores': [0.9121252298355103,\n",
       "  0.47499823570251465,\n",
       "  0.08781787008047104,\n",
       "  0.04499977082014084,\n",
       "  0.02013278566300869,\n",
       "  0.012040315195918083,\n",
       "  0.004292317666113377,\n",
       "  0.002817203989252448]}"
      ]
     },
     "execution_count": 13,
     "metadata": {},
     "output_type": "execute_result"
    }
   ],
   "source": [
    "theme_list = [\"dialogue\",\"battle\", \"friendship\", \"hope\", \"sacrifice\", \"self development\", \"betrayal\", \"love\"]\n",
    "theme_classifier(\n",
    "    \"I gave him a right hook then a left jab\",\n",
    "    theme_list,\n",
    "    multi_label=True\n",
    ")"
   ]
  },
  {
   "cell_type": "code",
   "execution_count": 14,
   "metadata": {},
   "outputs": [],
   "source": [
    "def get_season_episode(episode_name):\n",
    "    match = re.search(r\"\\[(\\d{3})\\]\", episode_name)\n",
    "\n",
    "    if match:\n",
    "        episode_number = match.group(1)  # \"404\"\n",
    "        season = episode_number[0]       # \"4\"\n",
    "        episode = episode_number[1:]     # \"04\"\n",
    "        \n",
    "        return (int(season), int(episode))\n",
    "    else:\n",
    "        return (0, 0)\n"
   ]
  },
  {
   "cell_type": "code",
   "execution_count": 15,
   "metadata": {},
   "outputs": [],
   "source": [
    "def load_dataset(path):\n",
    "\n",
    "    scripts = []\n",
    "    episode_num = []\n",
    "\n",
    "\n",
    "    files = glob.glob(pathname=path)\n",
    "\n",
    "    for file in files:\n",
    "        \n",
    "        lines = []\n",
    "        subs = pysrt.open(file, encoding='iso-8859-1')\n",
    "\n",
    "        for sub in subs:\n",
    "            lines.append(\n",
    "                sub\n",
    "                .text\n",
    "                .replace(\"\\n\", \" \")\n",
    "                .replace(\"<i>\", \"\"))\n",
    "        \n",
    "        episode_name = file.split(\"/\")[-1]\n",
    "        season, episode = get_season_episode(episode_name)\n",
    "        scripts.append(\" \".join(lines))\n",
    "        episode_num.append(episode)\n",
    "    \n",
    "        \n",
    "    df = pd.DataFrame.from_dict({\"episode\": episode_num, \"script\": scripts})\n",
    "    return df"
   ]
  },
  {
   "cell_type": "code",
   "execution_count": 16,
   "metadata": {},
   "outputs": [
    {
     "data": {
      "text/html": [
       "<div>\n",
       "<style scoped>\n",
       "    .dataframe tbody tr th:only-of-type {\n",
       "        vertical-align: middle;\n",
       "    }\n",
       "\n",
       "    .dataframe tbody tr th {\n",
       "        vertical-align: top;\n",
       "    }\n",
       "\n",
       "    .dataframe thead th {\n",
       "        text-align: right;\n",
       "    }\n",
       "</style>\n",
       "<table border=\"1\" class=\"dataframe\">\n",
       "  <thead>\n",
       "    <tr style=\"text-align: right;\">\n",
       "      <th></th>\n",
       "      <th>episode</th>\n",
       "      <th>script</th>\n",
       "    </tr>\n",
       "  </thead>\n",
       "  <tbody>\n",
       "    <tr>\n",
       "      <th>0</th>\n",
       "      <td>4</td>\n",
       "      <td>Coat! Michael just rent The Devil wears Prada....</td>\n",
       "    </tr>\n",
       "    <tr>\n",
       "      <th>1</th>\n",
       "      <td>14</td>\n",
       "      <td>Hello, this is Dwight Schrute. - Hello? - Hell...</td>\n",
       "    </tr>\n",
       "    <tr>\n",
       "      <th>2</th>\n",
       "      <td>6</td>\n",
       "      <td>Dunder Mifflin, this is Rolando. Oh yes, she's...</td>\n",
       "    </tr>\n",
       "    <tr>\n",
       "      <th>3</th>\n",
       "      <td>1</td>\n",
       "      <td>Okay. Well... I did not get the job in New-Yor...</td>\n",
       "    </tr>\n",
       "    <tr>\n",
       "      <th>4</th>\n",
       "      <td>12</td>\n",
       "      <td>Everybody! Everybody! Listen up, I need your i...</td>\n",
       "    </tr>\n",
       "  </tbody>\n",
       "</table>\n",
       "</div>"
      ],
      "text/plain": [
       "   episode                                             script\n",
       "0        4  Coat! Michael just rent The Devil wears Prada....\n",
       "1       14  Hello, this is Dwight Schrute. - Hello? - Hell...\n",
       "2        6  Dunder Mifflin, this is Rolando. Oh yes, she's...\n",
       "3        1  Okay. Well... I did not get the job in New-Yor...\n",
       "4       12  Everybody! Everybody! Listen up, I need your i..."
      ]
     },
     "execution_count": 16,
     "metadata": {},
     "output_type": "execute_result"
    }
   ],
   "source": [
    "PATH = \"../../DATA/NLP_DATA/4_season_office/*.srt\"         \n",
    "data = load_dataset(PATH)\n",
    "\n",
    "data.head()"
   ]
  },
  {
   "cell_type": "code",
   "execution_count": 17,
   "metadata": {},
   "outputs": [
    {
     "data": {
      "text/plain": [
       "[\"Coat! Michael just rent The Devil wears Prada.</i> He has his netflix sent here to the office and he watches them in pieces when things are slow. Steak! Where's my steak? He's a big Meryl Streep fan, so I shouldn't be surprised that he's identified with her character. Get me Armani. A suit? On the phone. The main company number? 'Cause I'm gonna have to... Where's Armani? He's on the phone. Too slow. You're not going to Paris. I'm so much better than you are. I owe you an apology. - You finished the movie. - Yeah, it was awesome. Big surprise ending. Won't ruin it for you. No, go ahead.\",\n",
       " 'Meryl Streep is the bad guy. You never see it coming. Anyway, if I was mean in any way to you, I\\'m sorry. I just want what\\'s best for you, Minushka. Macushla. He\\'s watching Million Dollar Baby.</i> He\\'s gonna try to kill me. T</i> Tr</i> Tra</i> Tran</i> Trans</i> Transc</i> Transcr</i> Transcri</i> Transcrip</i> Transcript</i> Transcript</i> Transcript:</i> Transcript:</i> Transcript: S</i> Transcript: Sw</i> Transcript: SwS</i> Transcript: SwSu</i> Transcript: SwSub</i> Transcript: SwSub S</i> Transcript: SwSub Sy</i> Transcript: SwSub Syn</i> Transcript: SwSub Sync</i> Transcript: SwSub Synch</i> Transcript: SwSub Synchr</i> Transcript: SwSub Synchro</i> Transcript: SwSub Synchro</i> Transcript: SwSub Synchro:</i> Transcript: SwSub Synchro:</i> Transcript: SwSub Synchro: D</i> Transcript: SwSub Synchro: Da</i> Transcript: SwSub Synchro: Dar</i> Transcript: SwSub Synchro: DarK</i> Transcript: SwSub Synchro: DarKs</i> Transcript: SwSub Synchro: DarKsh</i> Resync: nadielostzilla.</i> Episode 4x04 \"MONEY\"</i> So this one goes with my eyes and this one goes with your eyes. People said I have very pretty eyes. - You do. - I haven\\'t heard the same about you. So let\\'s just go with mine. Well they both go with the carpet that I\\'ve ordered. And if we go with the brown leather sofas, they go with that too. - We already have a sofa, so why d... - A futon\\'s not a sofa. It folds up. You\\'ve only seen it flat. - I know what a futon is, Michael. - I... Okay. How much is it gonna cost?',\n",
       " \"- It costs what it costs. - No... - It doesn't even mean anything. - We've gone through this. Yes! Money has been a little bit tight lately. But at the end of my life, when I'm sitting on my yacht, am I gonna be thinking about how much money I have? No, I'm gonna be thinking about how many friends I have and my children and my comedy albums. I mean, I have a yacht, so I obviously did pretty well, money-wise. It's just, you know, you say it's gonna cost what... - Yeah? - Michael, it's Ryan for you.</i> Conniving little runt... Put him through. Put him through. Yes? Ryan, my man! - I email you about the new Powerpoint. - Yes, thanks for sending that to me.</i> I had I.T. install the updated Powerpoint on your computer</i> so you can use it for the presentation. I really want people use Powerpoint.</i> Okay, yeah. No, I don't know. I don't know.\"]"
      ]
     },
     "execution_count": 17,
     "metadata": {},
     "output_type": "execute_result"
    }
   ],
   "source": [
    "script = data.iloc[0][\"script\"]\n",
    "script_sentences = sent_tokenize(script)\n",
    "\n",
    "script_batches = []\n",
    "\n",
    "for i in range(0, len(script_sentences), 20):\n",
    "    sent = \" \".join(script_sentences[i:i+20])\n",
    "    script_batches.append(sent)\n",
    "\n",
    "script_batches[:3]\n",
    "\n"
   ]
  },
  {
   "cell_type": "code",
   "execution_count": 18,
   "metadata": {},
   "outputs": [],
   "source": [
    "theme_output = theme_classifier(\n",
    "    script_batches[:2],\n",
    "    theme_list,\n",
    "    multi_label=True\n",
    ")\n",
    "\n"
   ]
  },
  {
   "cell_type": "code",
   "execution_count": 19,
   "metadata": {},
   "outputs": [
    {
     "data": {
      "text/plain": [
       "[{'sequence': \"Coat! Michael just rent The Devil wears Prada.</i> He has his netflix sent here to the office and he watches them in pieces when things are slow. Steak! Where's my steak? He's a big Meryl Streep fan, so I shouldn't be surprised that he's identified with her character. Get me Armani. A suit? On the phone. The main company number? 'Cause I'm gonna have to... Where's Armani? He's on the phone. Too slow. You're not going to Paris. I'm so much better than you are. I owe you an apology. - You finished the movie. - Yeah, it was awesome. Big surprise ending. Won't ruin it for you. No, go ahead.\",\n",
       "  'labels': ['dialogue',\n",
       "   'sacrifice',\n",
       "   'self development',\n",
       "   'betrayal',\n",
       "   'battle',\n",
       "   'hope',\n",
       "   'friendship',\n",
       "   'love'],\n",
       "  'scores': [0.909151017665863,\n",
       "   0.7216111421585083,\n",
       "   0.5595808029174805,\n",
       "   0.20029251277446747,\n",
       "   0.10084427148103714,\n",
       "   0.08791906386613846,\n",
       "   0.06756991147994995,\n",
       "   0.019578343257308006]},\n",
       " {'sequence': 'Meryl Streep is the bad guy. You never see it coming. Anyway, if I was mean in any way to you, I\\'m sorry. I just want what\\'s best for you, Minushka. Macushla. He\\'s watching Million Dollar Baby.</i> He\\'s gonna try to kill me. T</i> Tr</i> Tra</i> Tran</i> Trans</i> Transc</i> Transcr</i> Transcri</i> Transcrip</i> Transcript</i> Transcript</i> Transcript:</i> Transcript:</i> Transcript: S</i> Transcript: Sw</i> Transcript: SwS</i> Transcript: SwSu</i> Transcript: SwSub</i> Transcript: SwSub S</i> Transcript: SwSub Sy</i> Transcript: SwSub Syn</i> Transcript: SwSub Sync</i> Transcript: SwSub Synch</i> Transcript: SwSub Synchr</i> Transcript: SwSub Synchro</i> Transcript: SwSub Synchro</i> Transcript: SwSub Synchro:</i> Transcript: SwSub Synchro:</i> Transcript: SwSub Synchro: D</i> Transcript: SwSub Synchro: Da</i> Transcript: SwSub Synchro: Dar</i> Transcript: SwSub Synchro: DarK</i> Transcript: SwSub Synchro: DarKs</i> Transcript: SwSub Synchro: DarKsh</i> Resync: nadielostzilla.</i> Episode 4x04 \"MONEY\"</i> So this one goes with my eyes and this one goes with your eyes. People said I have very pretty eyes. - You do. - I haven\\'t heard the same about you. So let\\'s just go with mine. Well they both go with the carpet that I\\'ve ordered. And if we go with the brown leather sofas, they go with that too. - We already have a sofa, so why d... - A futon\\'s not a sofa. It folds up. You\\'ve only seen it flat. - I know what a futon is, Michael. - I... Okay. How much is it gonna cost?',\n",
       "  'labels': ['dialogue',\n",
       "   'sacrifice',\n",
       "   'betrayal',\n",
       "   'self development',\n",
       "   'friendship',\n",
       "   'battle',\n",
       "   'love',\n",
       "   'hope'],\n",
       "  'scores': [0.9822323322296143,\n",
       "   0.7828366756439209,\n",
       "   0.7097246050834656,\n",
       "   0.6068390011787415,\n",
       "   0.5692187547683716,\n",
       "   0.3379935026168823,\n",
       "   0.2923889756202698,\n",
       "   0.07085894048213959]}]"
      ]
     },
     "execution_count": 19,
     "metadata": {},
     "output_type": "execute_result"
    }
   ],
   "source": [
    "theme_output"
   ]
  },
  {
   "cell_type": "code",
   "execution_count": 20,
   "metadata": {},
   "outputs": [
    {
     "data": {
      "text/plain": [
       "defaultdict(list,\n",
       "            {'dialogue': [0.909151017665863, 0.9822323322296143],\n",
       "             'sacrifice': [0.7216111421585083, 0.7828366756439209],\n",
       "             'self development': [0.5595808029174805, 0.6068390011787415],\n",
       "             'betrayal': [0.20029251277446747, 0.7097246050834656],\n",
       "             'battle': [0.10084427148103714, 0.3379935026168823],\n",
       "             'hope': [0.08791906386613846, 0.07085894048213959],\n",
       "             'friendship': [0.06756991147994995, 0.5692187547683716],\n",
       "             'love': [0.019578343257308006, 0.2923889756202698]})"
      ]
     },
     "execution_count": 20,
     "metadata": {},
     "output_type": "execute_result"
    }
   ],
   "source": [
    "theme = defaultdict(list)\n",
    "\n",
    "for output in theme_output:\n",
    "\n",
    "    for label, score in zip(output[\"labels\"], output[\"scores\"]):\n",
    "        theme[label].append(score)\n",
    "\n",
    "theme_output = theme_classifier(\n",
    "    script_batches[:2],\n",
    "    theme_list,\n",
    "    multi_label=True\n",
    ")\n",
    "\n",
    "themes = defaultdict(list)\n",
    "\n",
    "for output in theme_output:\n",
    "    \n",
    "    for label, score in zip(output[\"labels\"], output[\"scores\"]):\n",
    "        themes[label].append(score)\n",
    "\n",
    "themes"
   ]
  },
  {
   "cell_type": "code",
   "execution_count": 21,
   "metadata": {},
   "outputs": [],
   "source": [
    "def get_theme_inference(script):\n",
    "\n",
    "    script_sentence = sent_tokenize(script)\n",
    "    script_batches = []\n",
    "\n",
    "    for i in range(0, len(script_sentence), 20):\n",
    "        sent = \" \".join(script_sentence[i:i+20])\n",
    "        script_batches.append(sent)\n",
    "\n",
    "    theme_output = theme_classifier(\n",
    "        script_batches[:2],\n",
    "        theme_list,\n",
    "        multi_label=True\n",
    "    )\n",
    "\n",
    "    themes = defaultdict(list)\n",
    "\n",
    "    for output in theme_output:\n",
    "\n",
    "        for label, score in zip(output[\"labels\"], output[\"scores\"]):\n",
    "            themes[label].append(score)\n",
    "\n",
    "    themes = {theme: np.mean(np.array(score)) for theme, score in themes.items()}\n",
    "\n",
    "    return themes"
   ]
  },
  {
   "cell_type": "code",
   "execution_count": 22,
   "metadata": {},
   "outputs": [],
   "source": [
    "data = data.head(2)"
   ]
  },
  {
   "cell_type": "code",
   "execution_count": 23,
   "metadata": {},
   "outputs": [],
   "source": [
    "output_theme = data[\"script\"].apply(get_theme_inference)\n"
   ]
  },
  {
   "cell_type": "code",
   "execution_count": 24,
   "metadata": {},
   "outputs": [
    {
     "data": {
      "text/plain": [
       "0    {'dialogue': 0.9456916749477386, 'sacrifice': ...\n",
       "1    {'dialogue': 0.9526321589946747, 'self develop...\n",
       "Name: script, dtype: object"
      ]
     },
     "execution_count": 24,
     "metadata": {},
     "output_type": "execute_result"
    }
   ],
   "source": [
    "output_theme"
   ]
  },
  {
   "cell_type": "code",
   "execution_count": 25,
   "metadata": {},
   "outputs": [],
   "source": [
    "theme_df = pd.DataFrame(output_theme.tolist())"
   ]
  },
  {
   "cell_type": "code",
   "execution_count": 26,
   "metadata": {},
   "outputs": [
    {
     "data": {
      "text/html": [
       "<div>\n",
       "<style scoped>\n",
       "    .dataframe tbody tr th:only-of-type {\n",
       "        vertical-align: middle;\n",
       "    }\n",
       "\n",
       "    .dataframe tbody tr th {\n",
       "        vertical-align: top;\n",
       "    }\n",
       "\n",
       "    .dataframe thead th {\n",
       "        text-align: right;\n",
       "    }\n",
       "</style>\n",
       "<table border=\"1\" class=\"dataframe\">\n",
       "  <thead>\n",
       "    <tr style=\"text-align: right;\">\n",
       "      <th></th>\n",
       "      <th>episode</th>\n",
       "      <th>script</th>\n",
       "    </tr>\n",
       "  </thead>\n",
       "  <tbody>\n",
       "    <tr>\n",
       "      <th>0</th>\n",
       "      <td>4</td>\n",
       "      <td>Coat! Michael just rent The Devil wears Prada....</td>\n",
       "    </tr>\n",
       "    <tr>\n",
       "      <th>1</th>\n",
       "      <td>14</td>\n",
       "      <td>Hello, this is Dwight Schrute. - Hello? - Hell...</td>\n",
       "    </tr>\n",
       "  </tbody>\n",
       "</table>\n",
       "</div>"
      ],
      "text/plain": [
       "   episode                                             script\n",
       "0        4  Coat! Michael just rent The Devil wears Prada....\n",
       "1       14  Hello, this is Dwight Schrute. - Hello? - Hell..."
      ]
     },
     "execution_count": 26,
     "metadata": {},
     "output_type": "execute_result"
    }
   ],
   "source": [
    "data"
   ]
  },
  {
   "cell_type": "code",
   "execution_count": 27,
   "metadata": {},
   "outputs": [],
   "source": [
    "data[theme_df.columns] = theme_df"
   ]
  },
  {
   "cell_type": "code",
   "execution_count": 28,
   "metadata": {},
   "outputs": [
    {
     "data": {
      "text/html": [
       "<div>\n",
       "<style scoped>\n",
       "    .dataframe tbody tr th:only-of-type {\n",
       "        vertical-align: middle;\n",
       "    }\n",
       "\n",
       "    .dataframe tbody tr th {\n",
       "        vertical-align: top;\n",
       "    }\n",
       "\n",
       "    .dataframe thead th {\n",
       "        text-align: right;\n",
       "    }\n",
       "</style>\n",
       "<table border=\"1\" class=\"dataframe\">\n",
       "  <thead>\n",
       "    <tr style=\"text-align: right;\">\n",
       "      <th></th>\n",
       "      <th>episode</th>\n",
       "      <th>script</th>\n",
       "      <th>dialogue</th>\n",
       "      <th>sacrifice</th>\n",
       "      <th>self development</th>\n",
       "      <th>betrayal</th>\n",
       "      <th>battle</th>\n",
       "      <th>hope</th>\n",
       "      <th>friendship</th>\n",
       "      <th>love</th>\n",
       "    </tr>\n",
       "  </thead>\n",
       "  <tbody>\n",
       "    <tr>\n",
       "      <th>0</th>\n",
       "      <td>4</td>\n",
       "      <td>Coat! Michael just rent The Devil wears Prada....</td>\n",
       "      <td>0.945692</td>\n",
       "      <td>0.752224</td>\n",
       "      <td>0.583210</td>\n",
       "      <td>0.455009</td>\n",
       "      <td>0.219419</td>\n",
       "      <td>0.079389</td>\n",
       "      <td>0.318394</td>\n",
       "      <td>0.155984</td>\n",
       "    </tr>\n",
       "    <tr>\n",
       "      <th>1</th>\n",
       "      <td>14</td>\n",
       "      <td>Hello, this is Dwight Schrute. - Hello? - Hell...</td>\n",
       "      <td>0.952632</td>\n",
       "      <td>0.485998</td>\n",
       "      <td>0.513272</td>\n",
       "      <td>0.351178</td>\n",
       "      <td>0.172694</td>\n",
       "      <td>0.153812</td>\n",
       "      <td>0.322012</td>\n",
       "      <td>0.134027</td>\n",
       "    </tr>\n",
       "  </tbody>\n",
       "</table>\n",
       "</div>"
      ],
      "text/plain": [
       "   episode                                             script  dialogue  \\\n",
       "0        4  Coat! Michael just rent The Devil wears Prada....  0.945692   \n",
       "1       14  Hello, this is Dwight Schrute. - Hello? - Hell...  0.952632   \n",
       "\n",
       "   sacrifice  self development  betrayal    battle      hope  friendship  \\\n",
       "0   0.752224          0.583210  0.455009  0.219419  0.079389    0.318394   \n",
       "1   0.485998          0.513272  0.351178  0.172694  0.153812    0.322012   \n",
       "\n",
       "       love  \n",
       "0  0.155984  \n",
       "1  0.134027  "
      ]
     },
     "execution_count": 28,
     "metadata": {},
     "output_type": "execute_result"
    }
   ],
   "source": [
    "data"
   ]
  },
  {
   "cell_type": "code",
   "execution_count": 29,
   "metadata": {},
   "outputs": [],
   "source": [
    "# data.drop(\"dialogue\", axis=1)"
   ]
  },
  {
   "cell_type": "code",
   "execution_count": 38,
   "metadata": {},
   "outputs": [
    {
     "data": {
      "text/html": [
       "<div>\n",
       "<style scoped>\n",
       "    .dataframe tbody tr th:only-of-type {\n",
       "        vertical-align: middle;\n",
       "    }\n",
       "\n",
       "    .dataframe tbody tr th {\n",
       "        vertical-align: top;\n",
       "    }\n",
       "\n",
       "    .dataframe thead th {\n",
       "        text-align: right;\n",
       "    }\n",
       "</style>\n",
       "<table border=\"1\" class=\"dataframe\">\n",
       "  <thead>\n",
       "    <tr style=\"text-align: right;\">\n",
       "      <th></th>\n",
       "      <th>theme</th>\n",
       "      <th>score</th>\n",
       "    </tr>\n",
       "  </thead>\n",
       "  <tbody>\n",
       "    <tr>\n",
       "      <th>0</th>\n",
       "      <td>dialogue</td>\n",
       "      <td>1.898324</td>\n",
       "    </tr>\n",
       "    <tr>\n",
       "      <th>1</th>\n",
       "      <td>sacrifice</td>\n",
       "      <td>1.238222</td>\n",
       "    </tr>\n",
       "    <tr>\n",
       "      <th>2</th>\n",
       "      <td>self development</td>\n",
       "      <td>1.096482</td>\n",
       "    </tr>\n",
       "    <tr>\n",
       "      <th>3</th>\n",
       "      <td>betrayal</td>\n",
       "      <td>0.806187</td>\n",
       "    </tr>\n",
       "    <tr>\n",
       "      <th>4</th>\n",
       "      <td>battle</td>\n",
       "      <td>0.392113</td>\n",
       "    </tr>\n",
       "    <tr>\n",
       "      <th>5</th>\n",
       "      <td>hope</td>\n",
       "      <td>0.233201</td>\n",
       "    </tr>\n",
       "    <tr>\n",
       "      <th>6</th>\n",
       "      <td>friendship</td>\n",
       "      <td>0.640406</td>\n",
       "    </tr>\n",
       "    <tr>\n",
       "      <th>7</th>\n",
       "      <td>love</td>\n",
       "      <td>0.290010</td>\n",
       "    </tr>\n",
       "  </tbody>\n",
       "</table>\n",
       "</div>"
      ],
      "text/plain": [
       "              theme     score\n",
       "0          dialogue  1.898324\n",
       "1         sacrifice  1.238222\n",
       "2  self development  1.096482\n",
       "3          betrayal  0.806187\n",
       "4            battle  0.392113\n",
       "5              hope  0.233201\n",
       "6        friendship  0.640406\n",
       "7              love  0.290010"
      ]
     },
     "execution_count": 38,
     "metadata": {},
     "output_type": "execute_result"
    }
   ],
   "source": [
    "theme_output = data.drop([\"episode\", \"script\"], axis=1).sum().reset_index()\n",
    "theme_output.columns = [\"theme\", \"score\"]\n",
    "theme_output"
   ]
  },
  {
   "cell_type": "code",
   "execution_count": 41,
   "metadata": {},
   "outputs": [
    {
     "data": {
      "image/png": "[encoded data removed]",
      "text/plain": [
       "<Figure size 640x480 with 1 Axes>"
      ]
     },
     "metadata": {},
     "output_type": "display_data"
    }
   ],
   "source": [
    "import matplotlib.pyplot as plt\n",
    "import seaborn as sns\n",
    "\n",
    "sns.barplot(data = theme_output, x=\"theme\", y=\"score\")\n",
    "plt.xticks(rotation=45)\n",
    "plt.show()\n",
    "\n"
   ]
  }
 ],
 "metadata": {
  "kernelspec": {
   "display_name": ".venv",
   "language": "python",
   "name": "python3"
  },
  "language_info": {
   "codemirror_mode": {
    "name": "ipython",
    "version": 3
   },
   "file_extension": ".py",
   "mimetype": "text/x-python",
   "name": "python",
   "nbconvert_exporter": "python",
   "pygments_lexer": "ipython3",
   "version": "3.10.9"
  }
 },
 "nbformat": 4,
 "nbformat_minor": 2
}
